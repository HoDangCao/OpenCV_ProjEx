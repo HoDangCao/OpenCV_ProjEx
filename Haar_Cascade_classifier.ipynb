{
 "cells": [
  {
   "cell_type": "markdown",
   "metadata": {},
   "source": [
    "# Haar Cascade Classifier"
   ]
  },
  {
   "cell_type": "markdown",
   "metadata": {},
   "source": [
    "It includes multiple stages: feature extraction, feature selection, and training a classifier."
   ]
  },
  {
   "cell_type": "markdown",
   "metadata": {},
   "source": [
    "### 1. **Haar-like Features**"
   ]
  },
  {
   "cell_type": "markdown",
   "metadata": {},
   "source": [
    "Haar-like features are rectangular patterns that detect specific visual characteristics. A common set of Haar features for `face detection` includes:\n",
    "\n",
    "- **Edge features**: Detects boundaries, such as between the forehead and eyes.\n",
    "- **Line features**: Detects horizontal or vertical changes, useful for spotting features like the bridge of the nose.\n",
    "- **Four-rectangle features**: Used for detecting contrast, like between eyes and eyebrows.\n",
    "\n",
    "Each feature calculates the difference in pixel intensity between black and white regions. This is done by summing the pixel values of the regions and subtracting the sums."
   ]
  },
  {
   "cell_type": "markdown",
   "metadata": {},
   "source": [
    "### 2. **Integral Image**"
   ]
  },
  {
   "cell_type": "markdown",
   "metadata": {},
   "source": [
    "An integral image helps to compute the sum of pixel intensities within a rectangular region very quickly. It’s a 2D matrix where each element represents the sum of all pixels above and to the left of it.\n",
    "\n",
    "- To create an integral image, use the formula:\n",
    "$$\n",
    "\\text{IntegralImage}(x, y) = \\text{Image}(x, y) + \\text{IntegralImage}(x-1, y) + \\text{IntegralImage}(x, y-1) - \\text{IntegralImage}(x-1, y-1)\n",
    "$$\n",
    "- Using this integral image, we can compute the sum of any rectangular area in constant time."
   ]
  },
  {
   "cell_type": "markdown",
   "metadata": {},
   "source": [
    "### 3. **Feature Selection Using AdaBoost**"
   ]
  },
  {
   "cell_type": "markdown",
   "metadata": {},
   "source": [
    "**AdaBoost** assigns higher weights to incorrectly classified samples to \"boost\" weak classifiers into a strong classifier. The algorithm combines many weak classifiers (simple threshold-based on a single Haar-like feature) to build a cascade of classifiers that improves detection accuracy."
   ]
  },
  {
   "cell_type": "markdown",
   "metadata": {},
   "source": [
    "### 4. **Training the Cascade Classifier**"
   ]
  },
  {
   "cell_type": "markdown",
   "metadata": {},
   "source": [
    "The cascade structure consists of multiple stages. Each stage is a separate classifier that filters out negative samples (non-faces) quickly, passing only promising regions to the next stage."
   ]
  },
  {
   "cell_type": "code",
   "execution_count": null,
   "metadata": {},
   "outputs": [],
   "source": [
    "import numpy as np\n",
    "import cv2\n",
    "\n",
    "# Step 1: Compute the Integral Image\n",
    "def integral_image(img):\n",
    "    # Sum over rows and columns to get the integral image\n",
    "    return img.cumsum(axis=0).cumsum(axis=1)\n",
    "\n",
    "# Step 2: Define Haar-like features\n",
    "class HaarFeature:\n",
    "    def __init__(self, feature_type, position, width, height):\n",
    "        self.feature_type = feature_type  # Types: 'two-rect', 'three-rect', 'four-rect'\n",
    "        self.position = position          # (x, y) position\n",
    "        self.width = width\n",
    "        self.height = height\n",
    "\n",
    "    def compute(self, int_img):\n",
    "        x, y = self.position\n",
    "        w, h = self.width, self.height\n",
    "\n",
    "        if self.feature_type == 'two-rect':\n",
    "            # Example of horizontal two-rect feature\n",
    "            white = int_img[y:y+h, x:x+w//2].sum()\n",
    "            black = int_img[y:y+h, x+w//2:x+w].sum()\n",
    "            return white - black\n",
    "        # Add more feature types as needed\n",
    "        return 0\n",
    "\n",
    "# Step 3: Create a Classifier based on Haar features\n",
    "class WeakClassifier:\n",
    "    def __init__(self, feature, threshold, polarity):\n",
    "        self.feature = feature\n",
    "        self.threshold = threshold\n",
    "        self.polarity = polarity\n",
    "\n",
    "    def predict(self, int_img):\n",
    "        feature_value = self.feature.compute(int_img)\n",
    "        return 1 if self.polarity * feature_value < self.polarity * self.threshold else 0\n",
    "\n",
    "# Step 4: Train a simple weak classifier (simplified without AdaBoost)\n",
    "def train_classifier(pos_imgs, neg_imgs, feature):\n",
    "    best_classifier = None\n",
    "    best_accuracy = 0\n",
    "    for threshold in np.linspace(-1, 1, num=10):  # Test different thresholds\n",
    "        for polarity in [1, -1]:\n",
    "            correct = 0\n",
    "            classifier = WeakClassifier(feature, threshold, polarity)\n",
    "            for img in pos_imgs:\n",
    "                if classifier.predict(integral_image(img)) == 1:\n",
    "                    correct += 1\n",
    "            for img in neg_imgs:\n",
    "                if classifier.predict(integral_image(img)) == 0:\n",
    "                    correct += 1\n",
    "            accuracy = correct / (len(pos_imgs) + len(neg_imgs))\n",
    "            if accuracy > best_accuracy:\n",
    "                best_accuracy = accuracy\n",
    "                best_classifier = classifier\n",
    "    return best_classifier\n",
    "\n",
    "# Step 4: full ver\n",
    "def adaboost_train(features, pos_integral_images, neg_integral_images):\n",
    "    # Initialize weights for positive and negative samples\n",
    "    num_pos, num_neg = len(pos_integral_images), len(neg_integral_images)\n",
    "    weights = np.hstack((np.ones(num_pos) / (2 * num_pos), np.ones(num_neg) / (2 * num_neg)))\n",
    "    classifiers = []\n",
    "\n",
    "    for feature in features:\n",
    "        best_classifier = None\n",
    "        best_accuracy = 0\n",
    "        \n",
    "        for threshold in np.linspace(-1, 1, num=10):\n",
    "            for polarity in [1, -1]:\n",
    "                # Initialize a weak classifier with a feature\n",
    "                classifier = WeakClassifier(feature, threshold, polarity)\n",
    "                predictions = []\n",
    "\n",
    "                # Calculate accuracy on positive and negative samples\n",
    "                for img in pos_integral_images:\n",
    "                    predictions.append(classifier.predict(img))\n",
    "                for img in neg_integral_images:\n",
    "                    predictions.append(1 - classifier.predict(img))\n",
    "                \n",
    "                accuracy = sum(predictions) / (num_pos + num_neg)\n",
    "                if accuracy > best_accuracy:\n",
    "                    best_accuracy = accuracy\n",
    "                    best_classifier = classifier\n",
    "        \n",
    "        classifiers.append(best_classifier)\n",
    "        # Update weights for misclassified samples (simplified)\n",
    "        # Update weights in AdaBoost to focus on misclassified samples\n",
    "    return classifiers\n",
    "\n",
    "# Step 5: Apply a cascade of classifiers to detect faces\n",
    "def detect_faces(img, classifiers):\n",
    "    int_img = integral_image(img)\n",
    "    for classifier in classifiers:\n",
    "        if classifier.predict(int_img) == 0:\n",
    "            return False  # Non-face region\n",
    "    return True  # Face detected\n",
    "\n",
    "# Step 5: full ver\n",
    "class CascadeStage:\n",
    "    def __init__(self, classifiers, threshold):\n",
    "        self.classifiers = classifiers\n",
    "        self.threshold = threshold\n",
    "\n",
    "    def classify(self, integral_image):\n",
    "        stage_sum = sum(clf.predict(integral_image) for clf in self.classifiers)\n",
    "        return stage_sum >= self.threshold  # Pass if stage sum is above threshold\n",
    "    \n",
    "class HaarCascade:\n",
    "    def __init__(self, stages):\n",
    "        self.stages = stages\n",
    "\n",
    "    def detect(self, image):\n",
    "        integral_img = integral_image(image)\n",
    "        for stage in self.stages:\n",
    "            if not stage.classify(integral_img):\n",
    "                return False  # Non-face region\n",
    "        return True  # Face detected\n",
    "    \n",
    "# Step 6: (only for full ver) apply the trained cascade on different regions (windows) of an image to detect faces.\n",
    "def sliding_window(image, cascade, window_size=(24, 24), step_size=4):\n",
    "    detected_regions = []\n",
    "    for y in range(0, image.shape[0] - window_size[1], step_size):\n",
    "        for x in range(0, image.shape[1] - window_size[0], step_size):\n",
    "            window = image[y:y+window_size[1], x:x+window_size[0]]\n",
    "            if cascade.detect(window):\n",
    "                detected_regions.append((x, y, window_size[0], window_size[1]))\n",
    "    return detected_regions\n",
    "\n",
    "# Example Usage\n",
    "if __name__ == \"__main__\":\n",
    "    # Load example images (replace with actual images)\n",
    "    pos_imgs = [cv2.imread(\"face1.jpg\", cv2.IMREAD_GRAYSCALE)]  # Positive samples\n",
    "    neg_imgs = [cv2.imread(\"non_face1.jpg\", cv2.IMREAD_GRAYSCALE)]  # Negative samples\n",
    "\n",
    "    # Define a Haar feature and train a classifier\n",
    "    feature = HaarFeature(\"two-rect\", (0, 0), 24, 24)\n",
    "    classifier = train_classifier(pos_imgs, neg_imgs, feature)\n",
    "\n",
    "    # Cascade of classifiers (for simplicity, using only one trained classifier)\n",
    "    cascade = [classifier]\n",
    "\n",
    "    # Detect face in a test image\n",
    "    test_img = cv2.imread(\"test.jpg\", cv2.IMREAD_GRAYSCALE)\n",
    "    if detect_faces(test_img, cascade):\n",
    "        print(\"Face detected!\")\n",
    "    else:\n",
    "        print(\"No face detected.\")"
   ]
  },
  {
   "cell_type": "markdown",
   "metadata": {},
   "source": [
    "### Explanation of Key Components"
   ]
  },
  {
   "cell_type": "markdown",
   "metadata": {},
   "source": [
    "1. **Integral Image Calculation**: This provides rapid access to rectangular regions, speeding up feature computation.\n",
    "2. **Haar Feature Calculation**: In this example, we compute a two-rectangle feature by summing two areas and taking the difference.\n",
    "3. **Weak Classifier Training**: Here, a single weak classifier is trained with various thresholds and polarities. Normally, multiple features and AdaBoost are used to create a strong classifier.\n",
    "4. **Cascade of Classifiers**: For simplicity, we use one classifier here, but in a full Haar Cascade, several stages are used for efficient face detection."
   ]
  },
  {
   "cell_type": "markdown",
   "metadata": {},
   "source": [
    "### Limitations and Enhancements"
   ]
  },
  {
   "cell_type": "markdown",
   "metadata": {},
   "source": [
    "- **AdaBoost**: A simplified version is shown, but a real implementation would iteratively adjust sample weights and use multiple features per classifier.\n",
    "- **Training Time**: A real Haar Cascade requires thousands of positive and negative samples and extensive computational resources."
   ]
  }
 ],
 "metadata": {
  "language_info": {
   "name": "python"
  }
 },
 "nbformat": 4,
 "nbformat_minor": 2
}
